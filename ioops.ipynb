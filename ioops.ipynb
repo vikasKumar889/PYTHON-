{
 "cells": [
  {
   "cell_type": "code",
   "execution_count": 1,
   "metadata": {},
   "outputs": [
    {
     "name": "stdout",
     "output_type": "stream",
     "text": [
      "p\n",
      "y\n",
      "t\n",
      "h\n",
      "o\n",
      "n\n"
     ]
    }
   ],
   "source": [
    "x = 'python'\n",
    "for i in x:\n",
    "    print(i)"
   ]
  },
  {
   "cell_type": "code",
   "execution_count": 3,
   "metadata": {},
   "outputs": [
    {
     "name": "stdout",
     "output_type": "stream",
     "text": [
      "o\n",
      "n\n",
      "c\n",
      "e\n",
      "s\n",
      " \n"
     ]
    }
   ],
   "source": [
    "story = 'onces '\n",
    "for char in story:\n",
    "    print(char)"
   ]
  },
  {
   "cell_type": "code",
   "execution_count": 15,
   "metadata": {},
   "outputs": [
    {
     "name": "stdout",
     "output_type": "stream",
     "text": [
      "Alice 5\n",
      "Bob 3\n",
      "Charliee 8\n",
      "David 5\n",
      "Eve 3\n",
      "Frank 5\n"
     ]
    },
    {
     "ename": "KeyboardInterrupt",
     "evalue": "",
     "output_type": "error",
     "traceback": [
      "\u001b[1;31m---------------------------------------------------------------------------\u001b[0m",
      "\u001b[1;31mKeyboardInterrupt\u001b[0m                         Traceback (most recent call last)",
      "File \u001b[1;32mc:\\Users\\91969\\AppData\\Local\\Programs\\Python\\Python310\\lib\\site-packages\\IPython\\core\\interactiveshell.py:3337\u001b[0m, in \u001b[0;36mInteractiveShell.run_ast_nodes\u001b[1;34m(self, nodelist, cell_name, interactivity, compiler, result)\u001b[0m\n\u001b[0;32m   <a href='file:///c%3A/Users/91969/AppData/Local/Programs/Python/Python310/lib/site-packages/IPython/core/interactiveshell.py?line=3334'>3335</a>\u001b[0m         code \u001b[39m=\u001b[39m \u001b[39mself\u001b[39m\u001b[39m.\u001b[39m_update_code_co_name(code)\n\u001b[0;32m   <a href='file:///c%3A/Users/91969/AppData/Local/Programs/Python/Python310/lib/site-packages/IPython/core/interactiveshell.py?line=3335'>3336</a>\u001b[0m         asy \u001b[39m=\u001b[39m compare(code)\n\u001b[1;32m-> <a href='file:///c%3A/Users/91969/AppData/Local/Programs/Python/Python310/lib/site-packages/IPython/core/interactiveshell.py?line=3336'>3337</a>\u001b[0m     \u001b[39mif\u001b[39;00m \u001b[39mawait\u001b[39;00m \u001b[39mself\u001b[39m\u001b[39m.\u001b[39mrun_code(code, result, async_\u001b[39m=\u001b[39masy):\n\u001b[0;32m   <a href='file:///c%3A/Users/91969/AppData/Local/Programs/Python/Python310/lib/site-packages/IPython/core/interactiveshell.py?line=3337'>3338</a>\u001b[0m         \u001b[39mreturn\u001b[39;00m \u001b[39mTrue\u001b[39;00m\n\u001b[0;32m   <a href='file:///c%3A/Users/91969/AppData/Local/Programs/Python/Python310/lib/site-packages/IPython/core/interactiveshell.py?line=3339'>3340</a>\u001b[0m \u001b[39m# Flush softspace\u001b[39;00m\n",
      "File \u001b[1;32m_pydevd_bundle/pydevd_cython.pyx:1508\u001b[0m, in \u001b[0;36m_pydevd_bundle.pydevd_cython.trace_dispatch\u001b[1;34m()\u001b[0m\n",
      "File \u001b[1;32mc:\\Users\\91969\\AppData\\Local\\Programs\\Python\\Python310\\lib\\site-packages\\debugpy\\_vendored\\pydevd\\pydevd.py:1086\u001b[0m, in \u001b[0;36mPyDB.enable_tracing\u001b[1;34m(self, thread_trace_func, apply_to_all_threads)\u001b[0m\n\u001b[0;32m   <a href='file:///c%3A/Users/91969/AppData/Local/Programs/Python/Python310/lib/site-packages/debugpy/_vendored/pydevd/pydevd.py?line=1082'>1083</a>\u001b[0m     \u001b[39melse\u001b[39;00m:\n\u001b[0;32m   <a href='file:///c%3A/Users/91969/AppData/Local/Programs/Python/Python310/lib/site-packages/debugpy/_vendored/pydevd/pydevd.py?line=1083'>1084</a>\u001b[0m         \u001b[39mself\u001b[39m\u001b[39m.\u001b[39m_local_thread_trace_func\u001b[39m.\u001b[39mthread_trace_func \u001b[39m=\u001b[39m thread_trace_func\n\u001b[1;32m-> <a href='file:///c%3A/Users/91969/AppData/Local/Programs/Python/Python310/lib/site-packages/debugpy/_vendored/pydevd/pydevd.py?line=1085'>1086</a>\u001b[0m pydevd_tracing\u001b[39m.\u001b[39;49mSetTrace(thread_trace_func)\n\u001b[0;32m   <a href='file:///c%3A/Users/91969/AppData/Local/Programs/Python/Python310/lib/site-packages/debugpy/_vendored/pydevd/pydevd.py?line=1086'>1087</a>\u001b[0m \u001b[39mif\u001b[39;00m IS_CPYTHON \u001b[39mand\u001b[39;00m apply_to_all_threads:\n\u001b[0;32m   <a href='file:///c%3A/Users/91969/AppData/Local/Programs/Python/Python310/lib/site-packages/debugpy/_vendored/pydevd/pydevd.py?line=1087'>1088</a>\u001b[0m     pydevd_tracing\u001b[39m.\u001b[39mset_trace_to_threads(thread_trace_func)\n",
      "File \u001b[1;32mc:\\Users\\91969\\AppData\\Local\\Programs\\Python\\Python310\\lib\\site-packages\\debugpy\\_vendored\\pydevd\\pydevd_tracing.py:77\u001b[0m, in \u001b[0;36mSetTrace\u001b[1;34m(tracing_func)\u001b[0m\n\u001b[0;32m     <a href='file:///c%3A/Users/91969/AppData/Local/Programs/Python/Python310/lib/site-packages/debugpy/_vendored/pydevd/pydevd_tracing.py?line=73'>74</a>\u001b[0m _last_tracing_func_thread_local\u001b[39m.\u001b[39mtracing_func \u001b[39m=\u001b[39m tracing_func\n\u001b[0;32m     <a href='file:///c%3A/Users/91969/AppData/Local/Programs/Python/Python310/lib/site-packages/debugpy/_vendored/pydevd/pydevd_tracing.py?line=75'>76</a>\u001b[0m \u001b[39mif\u001b[39;00m tracing_func \u001b[39mis\u001b[39;00m \u001b[39mnot\u001b[39;00m \u001b[39mNone\u001b[39;00m:\n\u001b[1;32m---> <a href='file:///c%3A/Users/91969/AppData/Local/Programs/Python/Python310/lib/site-packages/debugpy/_vendored/pydevd/pydevd_tracing.py?line=76'>77</a>\u001b[0m     \u001b[39mif\u001b[39;00m set_trace_to_threads(tracing_func, thread_idents\u001b[39m=\u001b[39;49m[thread\u001b[39m.\u001b[39;49mget_ident()], create_dummy_thread\u001b[39m=\u001b[39;49m\u001b[39mFalse\u001b[39;49;00m) \u001b[39m==\u001b[39m \u001b[39m0\u001b[39m:\n\u001b[0;32m     <a href='file:///c%3A/Users/91969/AppData/Local/Programs/Python/Python310/lib/site-packages/debugpy/_vendored/pydevd/pydevd_tracing.py?line=77'>78</a>\u001b[0m         \u001b[39m# If we can use our own tracer instead of the one from sys.settrace, do it (the reason\u001b[39;00m\n\u001b[0;32m     <a href='file:///c%3A/Users/91969/AppData/Local/Programs/Python/Python310/lib/site-packages/debugpy/_vendored/pydevd/pydevd_tracing.py?line=78'>79</a>\u001b[0m         \u001b[39m# is that this is faster than the Python version because we don't call\u001b[39;00m\n\u001b[0;32m     <a href='file:///c%3A/Users/91969/AppData/Local/Programs/Python/Python310/lib/site-packages/debugpy/_vendored/pydevd/pydevd_tracing.py?line=79'>80</a>\u001b[0m         \u001b[39m# PyFrame_FastToLocalsWithError and PyFrame_LocalsToFast at each event!\u001b[39;00m\n\u001b[0;32m     <a href='file:///c%3A/Users/91969/AppData/Local/Programs/Python/Python310/lib/site-packages/debugpy/_vendored/pydevd/pydevd_tracing.py?line=80'>81</a>\u001b[0m         \u001b[39m# (the difference can be huge when checking line events on frames as the\u001b[39;00m\n\u001b[0;32m     <a href='file:///c%3A/Users/91969/AppData/Local/Programs/Python/Python310/lib/site-packages/debugpy/_vendored/pydevd/pydevd_tracing.py?line=81'>82</a>\u001b[0m         \u001b[39m# time increases based on the number of local variables in the scope)\u001b[39;00m\n\u001b[0;32m     <a href='file:///c%3A/Users/91969/AppData/Local/Programs/Python/Python310/lib/site-packages/debugpy/_vendored/pydevd/pydevd_tracing.py?line=82'>83</a>\u001b[0m         \u001b[39m# See: InternalCallTrampoline (on the C side) for details.\u001b[39;00m\n\u001b[0;32m     <a href='file:///c%3A/Users/91969/AppData/Local/Programs/Python/Python310/lib/site-packages/debugpy/_vendored/pydevd/pydevd_tracing.py?line=83'>84</a>\u001b[0m         \u001b[39mreturn\u001b[39;00m\n\u001b[0;32m     <a href='file:///c%3A/Users/91969/AppData/Local/Programs/Python/Python310/lib/site-packages/debugpy/_vendored/pydevd/pydevd_tracing.py?line=85'>86</a>\u001b[0m \u001b[39m# If it didn't work (or if it was None), use the Python version.\u001b[39;00m\n",
      "File \u001b[1;32mc:\\Users\\91969\\AppData\\Local\\Programs\\Python\\Python310\\lib\\site-packages\\debugpy\\_vendored\\pydevd\\pydevd_tracing.py:345\u001b[0m, in \u001b[0;36mset_trace_to_threads\u001b[1;34m(tracing_func, thread_idents, create_dummy_thread)\u001b[0m\n\u001b[0;32m    <a href='file:///c%3A/Users/91969/AppData/Local/Programs/Python/Python310/lib/site-packages/debugpy/_vendored/pydevd/pydevd_tracing.py?line=342'>343</a>\u001b[0m start_new_thread \u001b[39m=\u001b[39m pydev_monkey\u001b[39m.\u001b[39mget_original_start_new_thread(thread)\n\u001b[0;32m    <a href='file:///c%3A/Users/91969/AppData/Local/Programs/Python/Python310/lib/site-packages/debugpy/_vendored/pydevd/pydevd_tracing.py?line=343'>344</a>\u001b[0m start_new_thread(increase_tracing_count, ())\n\u001b[1;32m--> <a href='file:///c%3A/Users/91969/AppData/Local/Programs/Python/Python310/lib/site-packages/debugpy/_vendored/pydevd/pydevd_tracing.py?line=344'>345</a>\u001b[0m proceed\u001b[39m.\u001b[39;49macquire()  \u001b[39m# Only proceed after the release() is done.\u001b[39;00m\n\u001b[0;32m    <a href='file:///c%3A/Users/91969/AppData/Local/Programs/Python/Python310/lib/site-packages/debugpy/_vendored/pydevd/pydevd_tracing.py?line=345'>346</a>\u001b[0m proceed \u001b[39m=\u001b[39m \u001b[39mNone\u001b[39;00m\n\u001b[0;32m    <a href='file:///c%3A/Users/91969/AppData/Local/Programs/Python/Python310/lib/site-packages/debugpy/_vendored/pydevd/pydevd_tracing.py?line=347'>348</a>\u001b[0m \u001b[39m# Note: The set_trace_func is not really used anymore in the C side.\u001b[39;00m\n",
      "\u001b[1;31mKeyboardInterrupt\u001b[0m: "
     ]
    }
   ],
   "source": [
    "names =  ['Alice','Bob','Charliee','David','Eve','Frank']\n",
    "for name in names:\n",
    "    print(name, len(name))\n"
   ]
  },
  {
   "cell_type": "code",
   "execution_count": 16,
   "metadata": {},
   "outputs": [
    {
     "name": "stdout",
     "output_type": "stream",
     "text": [
      "i have apple\n",
      "i have banana\n",
      "i have lemon\n"
     ]
    }
   ],
   "source": [
    "fruit = ['apple','banana','lemon']\n",
    "for item in fruit:\n",
    "    print(f'i have {item}')"
   ]
  },
  {
   "cell_type": "code",
   "execution_count": 17,
   "metadata": {},
   "outputs": [
    {
     "name": "stdout",
     "output_type": "stream",
     "text": [
      "you got number 0\n",
      "you got number 1\n",
      "you got number 2\n",
      "you got number 3\n",
      "you got number 4\n",
      "you got number 5\n"
     ]
    }
   ],
   "source": [
    "for i in range(6):\n",
    "    print('you got number',i)"
   ]
  },
  {
   "cell_type": "code",
   "execution_count": 9,
   "metadata": {},
   "outputs": [
    {
     "name": "stdout",
     "output_type": "stream",
     "text": [
      "level 1\n",
      "level 5\n",
      "level 9\n"
     ]
    }
   ],
   "source": [
    "for i in range(1,10,4):\n",
    "    print('level',i)"
   ]
  },
  {
   "cell_type": "code",
   "execution_count": 20,
   "metadata": {},
   "outputs": [
    {
     "name": "stdout",
     "output_type": "stream",
     "text": [
      "sheep 2\n",
      "sheep 3\n",
      "sheep 4\n",
      "sheep 5\n",
      "sheep 6\n",
      "sheep 7\n",
      "sheep 8\n",
      "sheep 9\n",
      "sheep 10\n"
     ]
    }
   ],
   "source": [
    "for i in range(2,11):\n",
    "    print('sheep',i)"
   ]
  },
  {
   "cell_type": "code",
   "execution_count": 7,
   "metadata": {},
   "outputs": [
    {
     "name": "stdout",
     "output_type": "stream",
     "text": [
      "10\n",
      "9\n",
      "8\n",
      "7\n",
      "6\n"
     ]
    }
   ],
   "source": [
    "# Reverse loop\n",
    "for num in range(10,5,-1):\n",
    "    print(num)"
   ]
  },
  {
   "cell_type": "code",
   "execution_count": 22,
   "metadata": {},
   "outputs": [
    {
     "name": "stdout",
     "output_type": "stream",
     "text": [
      "\n",
      "na\n",
      "nana\n",
      "nanana\n",
      "nananana\n",
      "nanananana\n",
      "nananananana\n",
      "nanananananana\n",
      "nananananananana\n",
      "nanananananananana\n"
     ]
    }
   ],
   "source": [
    "#pattern loop\n",
    "for i in range(10):\n",
    "    print(i*'na')"
   ]
  },
  {
   "cell_type": "code",
   "execution_count": 5,
   "metadata": {},
   "outputs": [
    {
     "name": "stdout",
     "output_type": "stream",
     "text": [
      "nananananananananana\n",
      "nanananananananana\n",
      "nananananananana\n",
      "nanananananana\n",
      "nananananana\n",
      "nanananana\n",
      "nananana\n",
      "nanana\n",
      "nana\n"
     ]
    }
   ],
   "source": [
    "for i in range(10,1,-1):\n",
    "    print(i*'na')"
   ]
  },
  {
   "cell_type": "code",
   "execution_count": 35,
   "metadata": {},
   "outputs": [
    {
     "name": "stdout",
     "output_type": "stream",
     "text": [
      "1275\n"
     ]
    }
   ],
   "source": [
    "y=0\n",
    "for i in range (1,51):\n",
    "    y+=i \n",
    "print(y)\n",
    "    "
   ]
  },
  {
   "cell_type": "code",
   "execution_count": 38,
   "metadata": {},
   "outputs": [
    {
     "name": "stdout",
     "output_type": "stream",
     "text": [
      "1683\n"
     ]
    }
   ],
   "source": [
    "x = 0\n",
    "for i in range (3,100,3):\n",
    "    x+=i\n",
    "print(x)"
   ]
  },
  {
   "cell_type": "markdown",
   "metadata": {},
   "source": [
    "wap to the sum of number which are divisble by 3 range 1 to 100"
   ]
  },
  {
   "cell_type": "code",
   "execution_count": 39,
   "metadata": {},
   "outputs": [
    {
     "name": "stdout",
     "output_type": "stream",
     "text": [
      "1683\n"
     ]
    }
   ],
   "source": [
    "total =0\n",
    "for i in range(1,100):\n",
    "    if i%3==0:\n",
    "        total+=i\n",
    "print(total)        "
   ]
  },
  {
   "cell_type": "code",
   "execution_count": 45,
   "metadata": {},
   "outputs": [
    {
     "name": "stdout",
     "output_type": "stream",
     "text": [
      "50.0\n"
     ]
    }
   ],
   "source": [
    "y=0\n",
    "for i in range (1,100):\n",
    "    y=y+i \n",
    "print(y/99)"
   ]
  },
  {
   "cell_type": "markdown",
   "metadata": {},
   "source": [
    "WAP to calculate the average(mean) of all number from 1 to 100 "
   ]
  },
  {
   "cell_type": "code",
   "execution_count": 2,
   "metadata": {},
   "outputs": [
    {
     "name": "stdout",
     "output_type": "stream",
     "text": [
      "50.0\n"
     ]
    }
   ],
   "source": [
    "total =0\n",
    "for i in range (1,100):\n",
    "    total+=i\n",
    "    avg=total/99\n",
    "print(avg)\n"
   ]
  },
  {
   "cell_type": "code",
   "execution_count": 3,
   "metadata": {},
   "outputs": [
    {
     "name": "stdout",
     "output_type": "stream",
     "text": [
      "50.0\n"
     ]
    }
   ],
   "source": [
    "total =0\n",
    "for i in range (1,100):\n",
    "    total+=i\n",
    "print(total/99)    "
   ]
  },
  {
   "cell_type": "code",
   "execution_count": null,
   "metadata": {},
   "outputs": [],
   "source": []
  }
 ],
 "metadata": {
  "interpreter": {
   "hash": "8064873486743b3561012a04baeaa1b8122ff756d22bf0f5bd097e4f6449fa51"
  },
  "kernelspec": {
   "display_name": "Python 3.10.4 64-bit",
   "language": "python",
   "name": "python3"
  },
  "language_info": {
   "codemirror_mode": {
    "name": "ipython",
    "version": 3
   },
   "file_extension": ".py",
   "mimetype": "text/x-python",
   "name": "python",
   "nbconvert_exporter": "python",
   "pygments_lexer": "ipython3",
   "version": "3.10.4"
  },
  "orig_nbformat": 4
 },
 "nbformat": 4,
 "nbformat_minor": 2
}
