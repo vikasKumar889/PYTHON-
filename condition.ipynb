{
 "cells": [
  {
   "cell_type": "code",
   "execution_count": 1,
   "metadata": {},
   "outputs": [
    {
     "name": "stdout",
     "output_type": "stream",
     "text": [
      "you see an apple seller\n",
      "purchese 2kg apple\n"
     ]
    }
   ],
   "source": [
    "print('you see an apple seller')\n",
    "q = input('do you like apple?')\n",
    "if q== 'yes' :\n",
    "    print('purchese 2kg apple')\n",
    "if q== 'no'  :\n",
    "    print('you dont purchase apples')    \n",
    "\n"
   ]
  },
  {
   "cell_type": "code",
   "execution_count": null,
   "metadata": {},
   "outputs": [],
   "source": []
  }
 ],
 "metadata": {
  "interpreter": {
   "hash": "8064873486743b3561012a04baeaa1b8122ff756d22bf0f5bd097e4f6449fa51"
  },
  "kernelspec": {
   "display_name": "Python 3.10.4 64-bit",
   "language": "python",
   "name": "python3"
  },
  "language_info": {
   "codemirror_mode": {
    "name": "ipython",
    "version": 3
   },
   "file_extension": ".py",
   "mimetype": "text/x-python",
   "name": "python",
   "nbconvert_exporter": "python",
   "pygments_lexer": "ipython3",
   "version": "3.10.4"
  },
  "orig_nbformat": 4
 },
 "nbformat": 4,
 "nbformat_minor": 2
}
