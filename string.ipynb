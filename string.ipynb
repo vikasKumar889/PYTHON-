{
 "cells": [
  {
   "cell_type": "markdown",
   "metadata": {},
   "source": []
  },
  {
   "cell_type": "code",
   "execution_count": 2,
   "metadata": {},
   "outputs": [
    {
     "name": "stdout",
     "output_type": "stream",
     "text": [
      "hello\n",
      "hello\n",
      "hello\n",
      "hello , welcome to the world\n",
      "               of python\n"
     ]
    }
   ],
   "source": [
    "my_string = 'hello'\n",
    "print(my_string)\n",
    "my_string = \"hello\"\n",
    "print(my_string)\n",
    "my_string = '''hello'''\n",
    "print(my_string)\n",
    "my_string = \"\"\"hello , welcome to the world\n",
    "               of python\"\"\"\n",
    "print(my_string)\n"
   ]
  },
  {
   "cell_type": "markdown",
   "metadata": {},
   "source": [
    "indexing"
   ]
  },
  {
   "cell_type": "code",
   "execution_count": 1,
   "metadata": {},
   "outputs": [
    {
     "name": "stdout",
     "output_type": "stream",
     "text": [
      "str= digipodium\n",
      "str[0]= d\n",
      "str[1]= i\n",
      "str[-2]= u\n",
      "str[-1]= m\n"
     ]
    }
   ],
   "source": [
    "str = 'digipodium'\n",
    "print('str=',str)\n",
    "print('str[0]=',str[0])\n",
    "print('str[1]=',str[1])\n",
    "print('str[-2]=',str[-2])\n",
    "print('str[-1]=',str[-1])"
   ]
  },
  {
   "cell_type": "code",
   "execution_count": 3,
   "metadata": {},
   "outputs": [
    {
     "name": "stdout",
     "output_type": "stream",
     "text": [
      "pod\n"
     ]
    }
   ],
   "source": [
    "s = 'digipodium'\n",
    "slice1 = s[4:7]\n",
    "print(slice1)"
   ]
  },
  {
   "cell_type": "code",
   "execution_count": 5,
   "metadata": {},
   "outputs": [
    {
     "name": "stdout",
     "output_type": "stream",
     "text": [
      "digi\n"
     ]
    }
   ],
   "source": [
    "slice1 = s[:4]\n",
    "print(slice1)"
   ]
  },
  {
   "cell_type": "code",
   "execution_count": 6,
   "metadata": {},
   "outputs": [
    {
     "name": "stdout",
     "output_type": "stream",
     "text": [
      "podium\n"
     ]
    }
   ],
   "source": [
    "slice1 = s[4:]\n",
    "print(slice1)"
   ]
  },
  {
   "cell_type": "code",
   "execution_count": 7,
   "metadata": {},
   "outputs": [
    {
     "data": {
      "text/plain": [
       "18"
      ]
     },
     "execution_count": 7,
     "metadata": {},
     "output_type": "execute_result"
    }
   ],
   "source": [
    "word = 'Stromlight Archive'\n",
    "len(word)\n"
   ]
  },
  {
   "cell_type": "code",
   "execution_count": 10,
   "metadata": {},
   "outputs": [
    {
     "name": "stdout",
     "output_type": "stream",
     "text": [
      "h t  \n"
     ]
    }
   ],
   "source": [
    "print(word[8], word[9],    word[10])"
   ]
  },
  {
   "cell_type": "code",
   "execution_count": 11,
   "metadata": {},
   "outputs": [
    {
     "data": {
      "text/plain": [
       "'Sodium C'"
      ]
     },
     "execution_count": 11,
     "metadata": {},
     "output_type": "execute_result"
    }
   ],
   "source": [
    "x='Sodium Carbonate'\n",
    "x[:8]"
   ]
  },
  {
   "cell_type": "code",
   "execution_count": 12,
   "metadata": {},
   "outputs": [
    {
     "data": {
      "text/plain": [
       "'m Carbonate'"
      ]
     },
     "execution_count": 12,
     "metadata": {},
     "output_type": "execute_result"
    }
   ],
   "source": [
    "x[5:]"
   ]
  },
  {
   "cell_type": "code",
   "execution_count": 9,
   "metadata": {},
   "outputs": [
    {
     "name": "stdout",
     "output_type": "stream",
     "text": [
      "A\n",
      "ř\n",
      "Օ\n"
     ]
    }
   ],
   "source": [
    "x = chr (65)\n",
    "print(x)\n",
    "x = chr(345)\n",
    "print(x)\n",
    "x = chr(1365)\n",
    "print(x)\n"
   ]
  },
  {
   "cell_type": "code",
   "execution_count": 31,
   "metadata": {},
   "outputs": [
    {
     "data": {
      "text/plain": [
       "'yoyoyoyoyo'"
      ]
     },
     "execution_count": 31,
     "metadata": {},
     "output_type": "execute_result"
    }
   ],
   "source": [
    "##  string concatenation\n",
    "# string duplication (cloning) using str*int\n",
    "'yo'*5"
   ]
  },
  {
   "cell_type": "code",
   "execution_count": 32,
   "metadata": {},
   "outputs": [
    {
     "name": "stdout",
     "output_type": "stream",
     "text": [
      "--------------------\n",
      "hello world\n",
      "--------------------\n"
     ]
    }
   ],
   "source": [
    "print('-'*20)\n",
    "print('hello world')\n",
    "print('-'*20)"
   ]
  },
  {
   "cell_type": "code",
   "execution_count": 1,
   "metadata": {},
   "outputs": [],
   "source": [
    "w = 'worldsinger'"
   ]
  },
  {
   "cell_type": "code",
   "execution_count": 2,
   "metadata": {},
   "outputs": [
    {
     "data": {
      "text/plain": [
       "['w', 'o', 'r', 'l', 'd', 's', 'i', 'n', 'g', 'e', 'r']"
      ]
     },
     "execution_count": 2,
     "metadata": {},
     "output_type": "execute_result"
    }
   ],
   "source": [
    "list(w)"
   ]
  },
  {
   "cell_type": "code",
   "execution_count": 10,
   "metadata": {},
   "outputs": [
    {
     "data": {
      "text/plain": [
       "'world'"
      ]
     },
     "execution_count": 10,
     "metadata": {},
     "output_type": "execute_result"
    }
   ],
   "source": [
    "w[:5]"
   ]
  },
  {
   "cell_type": "code",
   "execution_count": 5,
   "metadata": {},
   "outputs": [
    {
     "data": {
      "text/plain": [
       "'olsne'"
      ]
     },
     "execution_count": 5,
     "metadata": {},
     "output_type": "execute_result"
    }
   ],
   "source": [
    "w[1::2]#odd indexing"
   ]
  },
  {
   "cell_type": "code",
   "execution_count": 7,
   "metadata": {},
   "outputs": [
    {
     "data": {
      "text/plain": [
       "'wrdigr'"
      ]
     },
     "execution_count": 7,
     "metadata": {},
     "output_type": "execute_result"
    }
   ],
   "source": [
    "w[::2]"
   ]
  },
  {
   "cell_type": "code",
   "execution_count": 8,
   "metadata": {},
   "outputs": [
    {
     "data": {
      "text/plain": [
       "'regnisdlrow'"
      ]
     },
     "execution_count": 8,
     "metadata": {},
     "output_type": "execute_result"
    }
   ],
   "source": [
    "w[::-1] #reveres string"
   ]
  },
  {
   "cell_type": "code",
   "execution_count": 29,
   "metadata": {},
   "outputs": [],
   "source": [
    "y = ord('A')\n"
   ]
  },
  {
   "cell_type": "markdown",
   "metadata": {},
   "source": [
    "pattern printing"
   ]
  },
  {
   "cell_type": "code",
   "execution_count": 14,
   "metadata": {},
   "outputs": [
    {
     "name": "stdout",
     "output_type": "stream",
     "text": [
      "             L \n",
      "           L L \n",
      "         L L L \n",
      "       L L L L \n",
      "     L L L L L \n"
     ]
    }
   ],
   "source": [
    "for i in range(1,6):\n",
    "    print((i*'L ').rjust(15))"
   ]
  },
  {
   "cell_type": "code",
   "execution_count": 15,
   "metadata": {},
   "outputs": [
    {
     "data": {
      "text/plain": [
       "'         worldsinger'"
      ]
     },
     "execution_count": 15,
     "metadata": {},
     "output_type": "execute_result"
    }
   ],
   "source": [
    "w.rjust(20)"
   ]
  },
  {
   "cell_type": "code",
   "execution_count": 16,
   "metadata": {},
   "outputs": [
    {
     "data": {
      "text/plain": [
       "'worldsinger         '"
      ]
     },
     "execution_count": 16,
     "metadata": {},
     "output_type": "execute_result"
    }
   ],
   "source": [
    "w.ljust(20)"
   ]
  },
  {
   "cell_type": "code",
   "execution_count": 20,
   "metadata": {},
   "outputs": [
    {
     "name": "stdout",
     "output_type": "stream",
     "text": [
      "            0 \n",
      "          0 0 \n",
      "        0 0 0 \n",
      "      0 0 0 0 \n",
      "    0 0 0 0 0 \n",
      "  0 0 0 0 0 0 \n",
      "0 0 0 0 0 0 0 \n"
     ]
    }
   ],
   "source": [
    "for i in range(1,8):\n",
    "    print(('0 '*i).rjust(14))"
   ]
  },
  {
   "cell_type": "code",
   "execution_count": 16,
   "metadata": {},
   "outputs": [
    {
     "name": "stdout",
     "output_type": "stream",
     "text": [
      "               T              \n",
      "             T T T            \n",
      "           T T T T T          \n",
      "         T T T T T T T        \n",
      "       T T T T T T T T T      \n",
      "     T T T T T T T T T T T    \n",
      "   T T T T T T T T T T T T T  \n"
     ]
    }
   ],
   "source": [
    "for i in range(1,15,2):\n",
    "    print((i * ' T').center(30))"
   ]
  },
  {
   "cell_type": "code",
   "execution_count": 23,
   "metadata": {},
   "outputs": [
    {
     "name": "stdout",
     "output_type": "stream",
     "text": [
      "               T              \n",
      "               0              \n",
      "           T T T T T          \n",
      "           0 0 0 0 0          \n",
      "       T T T T T T T T T      \n",
      "       0 0 0 0 0 0 0 0 0      \n",
      "   T T T T T T T T T T T T T  \n",
      "   0 0 0 0 0 0 0 0 0 0 0 0 0  \n"
     ]
    }
   ],
   "source": [
    "for i in range(1,15,4):\n",
    "    print((i * \" T\").center(30))   \n",
    "    print((i * \" 0\").center(30))"
   ]
  },
  {
   "cell_type": "code",
   "execution_count": 33,
   "metadata": {},
   "outputs": [
    {
     "name": "stdout",
     "output_type": "stream",
     "text": [
      "                   0                    \n",
      "                  ***                   \n",
      "                 00000                  \n",
      "                *******                 \n",
      "               000000000                \n",
      "              ***********               \n",
      "             0000000000000              \n"
     ]
    }
   ],
   "source": [
    "for i,v in enumerate(range(1,15,2)):\n",
    "    if i % 2==0:\n",
    "        print((v * '0').center(40))\n",
    "    else:\n",
    "        print((v * '*').center(40))    "
   ]
  },
  {
   "cell_type": "markdown",
   "metadata": {},
   "source": [
    "### Function"
   ]
  },
  {
   "cell_type": "code",
   "execution_count": 25,
   "metadata": {},
   "outputs": [
    {
     "name": "stdout",
     "output_type": "stream",
     "text": [
      "\u001b[1;31mSignature:\u001b[0m \u001b[0mw\u001b[0m\u001b[1;33m.\u001b[0m\u001b[0mcenter\u001b[0m\u001b[1;33m(\u001b[0m\u001b[0mwidth\u001b[0m\u001b[1;33m,\u001b[0m \u001b[0mfillchar\u001b[0m\u001b[1;33m=\u001b[0m\u001b[1;34m' '\u001b[0m\u001b[1;33m,\u001b[0m \u001b[1;33m/\u001b[0m\u001b[1;33m)\u001b[0m\u001b[1;33m\u001b[0m\u001b[1;33m\u001b[0m\u001b[0m\n",
      "\u001b[1;31mDocstring:\u001b[0m\n",
      "Return a centered string of length width.\n",
      "\n",
      "Padding is done using the specified fill character (default is a space).\n",
      "\u001b[1;31mType:\u001b[0m      builtin_function_or_method\n"
     ]
    }
   ],
   "source": [
    "w.center?"
   ]
  },
  {
   "cell_type": "code",
   "execution_count": 37,
   "metadata": {},
   "outputs": [
    {
     "name": "stdout",
     "output_type": "stream",
     "text": [
      "xxxxxxxxxxxxxxxxxxx0xxxxxxxxxxxxxxxxxxxx\n",
      "xxxxxxxxxxxxxxxxxx***xxxxxxxxxxxxxxxxxxx\n",
      "xxxxxxxxxxxxxxxxx00000xxxxxxxxxxxxxxxxxx\n",
      "xxxxxxxxxxxxxxxx*******xxxxxxxxxxxxxxxxx\n",
      "xxxxxxxxxxxxxxx000000000xxxxxxxxxxxxxxxx\n",
      "xxxxxxxxxxxxxx***********xxxxxxxxxxxxxxx\n",
      "xxxxxxxxxxxxx0000000000000xxxxxxxxxxxxxx\n"
     ]
    }
   ],
   "source": [
    "for i,v in enumerate(range(1,15,2)):\n",
    "    if i % 2==0:\n",
    "        print((v * '0').center(40,'x'))\n",
    "    else:\n",
    "        print((v * '*').center(40,'x'))  \n"
   ]
  },
  {
   "cell_type": "code",
   "execution_count": 4,
   "metadata": {},
   "outputs": [],
   "source": [
    "Story ='''A key element of IP is IP address, a 32-bit number\n",
    "• The Internet authorities assign ranges of numbersto\n",
    "different organizations\n",
    "• IP is responsible for moving packet of data from node to node\n",
    "• A packet contains information such as the data to be transferred, the source and destination IP\n",
    "addresses, etc.\n",
    "• Packets are sent through different local network through gateways\n",
    "• A checksum is created to ensure the correctness ofthe\n",
    "data; corrupted packets are discarded\n",
    "• IP-based communication '''"
   ]
  },
  {
   "cell_type": "code",
   "execution_count": 5,
   "metadata": {},
   "outputs": [
    {
     "data": {
      "text/plain": [
       "494"
      ]
     },
     "execution_count": 5,
     "metadata": {},
     "output_type": "execute_result"
    }
   ],
   "source": [
    "len(Story)"
   ]
  },
  {
   "cell_type": "code",
   "execution_count": 6,
   "metadata": {},
   "outputs": [
    {
     "name": "stdout",
     "output_type": "stream",
     "text": [
      "['A', 'key', 'element', 'of', 'IP', 'is', 'IP', 'address,', 'a', '32-bit', 'number', '•', 'The', 'Internet', 'authorities', 'assign', 'ranges', 'of', 'numbersto', 'different', 'organizations', '•', 'IP', 'is', 'responsible', 'for', 'moving', 'packet', 'of', 'data', 'from', 'node', 'to', 'node', '•', 'A', 'packet', 'contains', 'information', 'such', 'as', 'the', 'data', 'to', 'be', 'transferred,', 'the', 'source', 'and', 'destination', 'IP', 'addresses,', 'etc.', '•', 'Packets', 'are', 'sent', 'through', 'different', 'local', 'network', 'through', 'gateways', '•', 'A', 'checksum', 'is', 'created', 'to', 'ensure', 'the', 'correctness', 'ofthe', 'data;', 'corrupted', 'packets', 'are', 'discarded', '•', 'IP-based', 'communication']\n"
     ]
    }
   ],
   "source": [
    "print(Story.split())"
   ]
  },
  {
   "cell_type": "code",
   "execution_count": 7,
   "metadata": {},
   "outputs": [
    {
     "name": "stdout",
     "output_type": "stream",
     "text": [
      "81\n"
     ]
    }
   ],
   "source": [
    "words = Story.split()\n",
    "print(len(words))"
   ]
  },
  {
   "cell_type": "code",
   "execution_count": 8,
   "metadata": {},
   "outputs": [
    {
     "data": {
      "text/plain": [
       "['A key element of IP is IP address',\n",
       " ' a 32-bit number\\n• The Internet authorities assign ranges of numbersto\\ndifferent organizations\\n• IP is responsible for moving packet of data from node to node\\n• A packet contains information such as the data to be transferred',\n",
       " ' the source and destination IP\\naddresses',\n",
       " ' etc.\\n• Packets are sent through different local network through gateways\\n• A checksum is created to ensure the correctness ofthe\\ndata; corrupted packets are discarded\\n• IP-based communication ']"
      ]
     },
     "execution_count": 8,
     "metadata": {},
     "output_type": "execute_result"
    }
   ],
   "source": [
    "Story.split(',',4)"
   ]
  },
  {
   "cell_type": "code",
   "execution_count": 9,
   "metadata": {},
   "outputs": [],
   "source": [
    "wordlist = ['chocolate','is','good','for','your','health']"
   ]
  },
  {
   "cell_type": "code",
   "execution_count": 10,
   "metadata": {},
   "outputs": [
    {
     "data": {
      "text/plain": [
       "'chocolate is good for your health'"
      ]
     },
     "execution_count": 10,
     "metadata": {},
     "output_type": "execute_result"
    }
   ],
   "source": [
    "' '.join(wordlist) ## join function"
   ]
  },
  {
   "cell_type": "code",
   "execution_count": 11,
   "metadata": {},
   "outputs": [
    {
     "data": {
      "text/plain": [
       "'chocolatexisxgoodxforxyourxhealth'"
      ]
     },
     "execution_count": 11,
     "metadata": {},
     "output_type": "execute_result"
    }
   ],
   "source": [
    "'x'.join(wordlist)"
   ]
  },
  {
   "cell_type": "code",
   "execution_count": 12,
   "metadata": {},
   "outputs": [
    {
     "data": {
      "text/plain": [
       "'A key element of IP is IP oddress, o 32-bit number\\n• The Internet outhorities ossign ronges of numbersto\\ndifferent orgonizotions\\n• IP is responsible for moving pocket of doto from node to node\\n• A pocket contoins informotion such os the doto to be tronsferred, the source ond destinotion IP\\noddresses, etc.\\n• Pockets ore sent through different locol network through gotewoys\\n• A checksum is creoted to ensure the correctness ofthe\\ndoto; corrupted pockets ore discorded\\n• IP-bosed communicotion '"
      ]
     },
     "execution_count": 12,
     "metadata": {},
     "output_type": "execute_result"
    }
   ],
   "source": [
    "Story.replace('a','o') #replace a to o "
   ]
  },
  {
   "cell_type": "code",
   "execution_count": 43,
   "metadata": {},
   "outputs": [
    {
     "data": {
      "text/plain": [
       "'A key element of IP is IP address, a 32-bit number\\n• The Internet authorities assign ranges of numbersto\\ndifferent organizations\\n• IP is responsible for moving packet of data from node to node\\n• A packet contains information such as the data to be transferred, the source and destination IP\\naddresses, etc???\\n• Packets are sent through different local network through gateways\\n• A checksum is created to ensure the correctness ofthe\\ndata; corrupted packets are discarded\\n• IP-based communication '"
      ]
     },
     "execution_count": 43,
     "metadata": {},
     "output_type": "execute_result"
    }
   ],
   "source": [
    "Story.replace('.','???',4) #replace . to ??? from 4 place"
   ]
  },
  {
   "cell_type": "code",
   "execution_count": 38,
   "metadata": {},
   "outputs": [
    {
     "data": {
      "text/plain": [
       "'A key element of IP is IP address, a 32-bit number\\n• The Internet authorities assign ranges of numbersto\\ndifferent organizations\\n• IP is responsible for moving packet of data from node to node\\n• A packet contains information such as the data to be transferred, the source and destination IP\\naddresses, etc.\\n• Packets are sent through different local network through gateways\\n• A checksum is created to ensure the correctness ofthe\\ndata; corrupted packets are discarded\\n• IP-based communication '"
      ]
     },
     "execution_count": 38,
     "metadata": {},
     "output_type": "execute_result"
    }
   ],
   "source": [
    "Story # story is print as usable"
   ]
  },
  {
   "cell_type": "code",
   "execution_count": 40,
   "metadata": {},
   "outputs": [
    {
     "data": {
      "text/plain": [
       "'A KEY ELEMENT OF IP IS IP ADDRESS, A 32-BIT NUMBER\\n• THE INTERNET AUTHORITIES ASSIGN RANGES OF NUMBERSTO\\nDIFFERENT ORGANIZATIONS\\n• IP IS RESPONSIBLE FOR MOVING PACKET OF DATA FROM NODE TO NODE\\n• A PACKET CONTAINS INFORMATION SUCH AS THE DATA TO BE TRANSFERRED, THE SOURCE AND DESTINATION IP\\nADDRESSES, ETC.\\n• PACKETS ARE SENT THROUGH DIFFERENT LOCAL NETWORK THROUGH GATEWAYS\\n• A CHECKSUM IS CREATED TO ENSURE THE CORRECTNESS OFTHE\\nDATA; CORRUPTED PACKETS ARE DISCARDED\\n• IP-BASED COMMUNICATION '"
      ]
     },
     "execution_count": 40,
     "metadata": {},
     "output_type": "execute_result"
    }
   ],
   "source": [
    "Story.upper()"
   ]
  },
  {
   "cell_type": "code",
   "execution_count": 41,
   "metadata": {},
   "outputs": [
    {
     "data": {
      "text/plain": [
       "'a key element of ip is ip address, a 32-bit number\\n• the internet authorities assign ranges of numbersto\\ndifferent organizations\\n• ip is responsible for moving packet of data from node to node\\n• a packet contains information such as the data to be transferred, the source and destination ip\\naddresses, etc.\\n• packets are sent through different local network through gateways\\n• a checksum is created to ensure the correctness ofthe\\ndata; corrupted packets are discarded\\n• ip-based communication '"
      ]
     },
     "execution_count": 41,
     "metadata": {},
     "output_type": "execute_result"
    }
   ],
   "source": [
    "Story.lower()"
   ]
  },
  {
   "cell_type": "code",
   "execution_count": 43,
   "metadata": {},
   "outputs": [
    {
     "data": {
      "text/plain": [
       "'A key element of ip is ip address, a 32-bit number\\n• the internet authorities assign ranges of numbersto\\ndifferent organizations\\n• ip is responsible for moving packet of data from node to node\\n• a packet contains information such as the data to be transferred, the source and destination ip\\naddresses, etc.\\n• packets are sent through different local network through gateways\\n• a checksum is created to ensure the correctness ofthe\\ndata; corrupted packets are discarded\\n• ip-based communication'"
      ]
     },
     "execution_count": 43,
     "metadata": {},
     "output_type": "execute_result"
    }
   ],
   "source": [
    "Story.strip().capitalize() #first letter is capital letter # when we use more than two function then called chaining"
   ]
  },
  {
   "cell_type": "code",
   "execution_count": 44,
   "metadata": {},
   "outputs": [
    {
     "data": {
      "text/plain": [
       "'a KEY ELEMENT OF ip IS ip ADDRESS, A 32-BIT NUMBER\\n• tHE iNTERNET AUTHORITIES ASSIGN RANGES OF NUMBERSTO\\nDIFFERENT ORGANIZATIONS\\n• ip IS RESPONSIBLE FOR MOVING PACKET OF DATA FROM NODE TO NODE\\n• a PACKET CONTAINS INFORMATION SUCH AS THE DATA TO BE TRANSFERRED, THE SOURCE AND DESTINATION ip\\nADDRESSES, ETC.\\n• pACKETS ARE SENT THROUGH DIFFERENT LOCAL NETWORK THROUGH GATEWAYS\\n• a CHECKSUM IS CREATED TO ENSURE THE CORRECTNESS OFTHE\\nDATA; CORRUPTED PACKETS ARE DISCARDED\\n• ip-BASED COMMUNICATION '"
      ]
     },
     "execution_count": 44,
     "metadata": {},
     "output_type": "execute_result"
    }
   ],
   "source": [
    "Story.swapcase()"
   ]
  },
  {
   "cell_type": "code",
   "execution_count": 45,
   "metadata": {},
   "outputs": [
    {
     "data": {
      "text/plain": [
       "'a key element of ip is ip address, a 32-bit number\\n• the internet authorities assign ranges of numbersto\\ndifferent organizations\\n• ip is responsible for moving packet of data from node to node\\n• a packet contains information such as the data to be transferred, the source and destination ip\\naddresses, etc.\\n• packets are sent through different local network through gateways\\n• a checksum is created to ensure the correctness ofthe\\ndata; corrupted packets are discarded\\n• ip-based communication '"
      ]
     },
     "execution_count": 45,
     "metadata": {},
     "output_type": "execute_result"
    }
   ],
   "source": [
    "Story.casefold()#lowercase"
   ]
  },
  {
   "cell_type": "code",
   "execution_count": 46,
   "metadata": {},
   "outputs": [
    {
     "data": {
      "text/plain": [
       "True"
      ]
     },
     "execution_count": 46,
     "metadata": {},
     "output_type": "execute_result"
    }
   ],
   "source": [
    "msg = input ('enter anything:') # test is input is alphabet\n",
    "msg.isalpha()"
   ]
  },
  {
   "cell_type": "code",
   "execution_count": 49,
   "metadata": {},
   "outputs": [
    {
     "name": "stdout",
     "output_type": "stream",
     "text": [
      "invalid number\n"
     ]
    }
   ],
   "source": [
    "msg = input ('enter a mumber:')\n",
    "if msg.isnumeric():\n",
    "    print('valid number')\n",
    "else:\n",
    "    print('invalid number')    \n"
   ]
  },
  {
   "cell_type": "code",
   "execution_count": 53,
   "metadata": {},
   "outputs": [
    {
     "data": {
      "text/plain": [
       "True"
      ]
     },
     "execution_count": 53,
     "metadata": {},
     "output_type": "execute_result"
    }
   ],
   "source": [
    "msg = input('enter anything:') #check string is alpa numeric\n",
    "msg.isalnum()"
   ]
  },
  {
   "cell_type": "code",
   "execution_count": 54,
   "metadata": {},
   "outputs": [
    {
     "data": {
      "text/plain": [
       "33"
      ]
     },
     "execution_count": 54,
     "metadata": {},
     "output_type": "execute_result"
    }
   ],
   "source": [
    "Story.count('a')"
   ]
  },
  {
   "cell_type": "code",
   "execution_count": 57,
   "metadata": {},
   "outputs": [
    {
     "data": {
      "text/plain": [
       "4"
      ]
     },
     "execution_count": 57,
     "metadata": {},
     "output_type": "execute_result"
    }
   ],
   "source": [
    "Story.count('of')"
   ]
  },
  {
   "cell_type": "code",
   "execution_count": 58,
   "metadata": {},
   "outputs": [
    {
     "name": "stdout",
     "output_type": "stream",
     "text": [
      "4\n"
     ]
    }
   ],
   "source": [
    "occurance = Story.count('of')\n",
    "print(occurance)"
   ]
  },
  {
   "cell_type": "code",
   "execution_count": 59,
   "metadata": {},
   "outputs": [
    {
     "name": "stdout",
     "output_type": "stream",
     "text": [
      "a 33\n",
      "b 6\n",
      "c 18\n",
      "d 20\n",
      "e 51\n",
      "f 12\n",
      "g 7\n",
      "h 12\n",
      "i 21\n",
      "j 0\n",
      "k 7\n",
      "l 4\n",
      "m 9\n",
      "n 29\n",
      "o 30\n",
      "p 5\n",
      "q 0\n",
      "r 30\n",
      "s 32\n",
      "t 39\n",
      "u 11\n",
      "v 1\n",
      "w 2\n",
      "x 0\n",
      "y 2\n",
      "z 1\n"
     ]
    }
   ],
   "source": [
    "for char in \"abcdefghijklmnopqrstuvwxyz\":\n",
    "    print(char,Story.count(char))"
   ]
  },
  {
   "cell_type": "code",
   "execution_count": 60,
   "metadata": {},
   "outputs": [
    {
     "name": "stdout",
     "output_type": "stream",
     "text": [
      " sdfq  6\n",
      "sdfq  5\n"
     ]
    }
   ],
   "source": [
    "name = input('enter your name:')\n",
    "print(name,len(name))\n",
    "# cleaning name\n",
    "name = name.lstrip()# mainly use strip\n",
    "print(name,len(name))"
   ]
  },
  {
   "cell_type": "code",
   "execution_count": 61,
   "metadata": {},
   "outputs": [
    {
     "name": "stdout",
     "output_type": "stream",
     "text": [
      "welcom gentlemen,Mr.smith\n",
      "welcome Milady,Mrs.jones\n",
      "welcom gentlemen,Mr.williams\n"
     ]
    }
   ],
   "source": [
    "guestlist = ['Mr.smith','Mrs.jones','Mr.williams']\n",
    "for name in guestlist:\n",
    "    if name.startswith('Mr.'):\n",
    "        print(f'welcom gentlemen,{name}')\n",
    "    if name.startswith('Mrs.'):\n",
    "        print(f'welcome Milady,{name}')    \n"
   ]
  },
  {
   "cell_type": "code",
   "execution_count": 62,
   "metadata": {},
   "outputs": [
    {
     "name": "stdout",
     "output_type": "stream",
     "text": [
      "song.mp3 is audio files\n",
      "song.mp4 is video file\n",
      "doc.txt is text file\n",
      "doc2.txt is text file\n",
      "doc3.txt is text file\n",
      "video.mp4 is video file\n"
     ]
    }
   ],
   "source": [
    "files = ['song.mp3','song.mp4','doc.txt','doc2.txt','doc3.txt','video.mp4']\n",
    "for file in files:\n",
    "    if file.endswith('.mp3'):\n",
    "        print(f'{file} is audio files')\n",
    "    elif file.endswith('.mp4'):\n",
    "        print(f'{file} is video file')\n",
    "    elif file.endswith('.txt'):\n",
    "        print(f'{file} is text file')        "
   ]
  },
  {
   "cell_type": "markdown",
   "metadata": {},
   "source": [
    "##Remove all vowels from a string entered by user"
   ]
  },
  {
   "cell_type": "code",
   "execution_count": 65,
   "metadata": {},
   "outputs": [
    {
     "name": "stdout",
     "output_type": "stream",
     "text": [
      "I m  progrmmer\n",
      "I m  progrmmr\n",
      "I m  progrmmr\n",
      "I m  prgrmmr\n",
      "I m  prgrmmr\n"
     ]
    }
   ],
   "source": [
    "vowels = \"aeiou\"\n",
    "message = 'I am a programmer' # because i is a capital letter\n",
    "for vowel in vowels:\n",
    "    message = message.replace(vowel,'')\n",
    "    print(message)"
   ]
  },
  {
   "cell_type": "markdown",
   "metadata": {},
   "source": [
    "count all vowels from a string entered by user"
   ]
  },
  {
   "cell_type": "code",
   "execution_count": 69,
   "metadata": {},
   "outputs": [
    {
     "data": {
      "text/plain": [
       "0"
      ]
     },
     "execution_count": 69,
     "metadata": {},
     "output_type": "execute_result"
    }
   ],
   "source": [
    "vowels= ['a','e','i','o','u']\n",
    "x = input('enter any string:')\n",
    "x.count ('vowels')"
   ]
  },
  {
   "cell_type": "code",
   "execution_count": null,
   "metadata": {},
   "outputs": [],
   "source": []
  }
 ],
 "metadata": {
  "interpreter": {
   "hash": "8064873486743b3561012a04baeaa1b8122ff756d22bf0f5bd097e4f6449fa51"
  },
  "kernelspec": {
   "display_name": "Python 3.10.4 64-bit",
   "language": "python",
   "name": "python3"
  },
  "language_info": {
   "codemirror_mode": {
    "name": "ipython",
    "version": 3
   },
   "file_extension": ".py",
   "mimetype": "text/x-python",
   "name": "python",
   "nbconvert_exporter": "python",
   "pygments_lexer": "ipython3",
   "version": "3.10.4"
  },
  "orig_nbformat": 4
 },
 "nbformat": 4,
 "nbformat_minor": 2
}
