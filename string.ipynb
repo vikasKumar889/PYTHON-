{
 "cells": [
  {
   "cell_type": "markdown",
   "metadata": {},
   "source": []
  },
  {
   "cell_type": "code",
   "execution_count": 2,
   "metadata": {},
   "outputs": [
    {
     "name": "stdout",
     "output_type": "stream",
     "text": [
      "hello\n",
      "hello\n",
      "hello\n",
      "hello , welcome to the world\n",
      "               of python\n"
     ]
    }
   ],
   "source": [
    "my_string = 'hello'\n",
    "print(my_string)\n",
    "my_string = \"hello\"\n",
    "print(my_string)\n",
    "my_string = '''hello'''\n",
    "print(my_string)\n",
    "my_string = \"\"\"hello , welcome to the world\n",
    "               of python\"\"\"\n",
    "print(my_string)\n"
   ]
  },
  {
   "cell_type": "markdown",
   "metadata": {},
   "source": [
    "indexing"
   ]
  },
  {
   "cell_type": "code",
   "execution_count": 1,
   "metadata": {},
   "outputs": [
    {
     "name": "stdout",
     "output_type": "stream",
     "text": [
      "str= digipodium\n",
      "str[0]= d\n",
      "str[1]= i\n",
      "str[-2]= u\n",
      "str[-1]= m\n"
     ]
    }
   ],
   "source": [
    "str = 'digipodium'\n",
    "print('str=',str)\n",
    "print('str[0]=',str[0])\n",
    "print('str[1]=',str[1])\n",
    "print('str[-2]=',str[-2])\n",
    "print('str[-1]=',str[-1])"
   ]
  },
  {
   "cell_type": "code",
   "execution_count": 3,
   "metadata": {},
   "outputs": [
    {
     "name": "stdout",
     "output_type": "stream",
     "text": [
      "pod\n"
     ]
    }
   ],
   "source": [
    "s = 'digipodium'\n",
    "slice1 = s[4:7]\n",
    "print(slice1)"
   ]
  },
  {
   "cell_type": "code",
   "execution_count": 5,
   "metadata": {},
   "outputs": [
    {
     "name": "stdout",
     "output_type": "stream",
     "text": [
      "digi\n"
     ]
    }
   ],
   "source": [
    "slice1 = s[:4]\n",
    "print(slice1)"
   ]
  },
  {
   "cell_type": "code",
   "execution_count": 6,
   "metadata": {},
   "outputs": [
    {
     "name": "stdout",
     "output_type": "stream",
     "text": [
      "podium\n"
     ]
    }
   ],
   "source": [
    "slice1 = s[4:]\n",
    "print(slice1)"
   ]
  },
  {
   "cell_type": "code",
   "execution_count": 7,
   "metadata": {},
   "outputs": [
    {
     "data": {
      "text/plain": [
       "18"
      ]
     },
     "execution_count": 7,
     "metadata": {},
     "output_type": "execute_result"
    }
   ],
   "source": [
    "word = 'Stromlight Archive'\n",
    "len(word)\n"
   ]
  },
  {
   "cell_type": "code",
   "execution_count": 10,
   "metadata": {},
   "outputs": [
    {
     "name": "stdout",
     "output_type": "stream",
     "text": [
      "h t  \n"
     ]
    }
   ],
   "source": [
    "print(word[8], word[9],    word[10])"
   ]
  },
  {
   "cell_type": "code",
   "execution_count": 11,
   "metadata": {},
   "outputs": [
    {
     "data": {
      "text/plain": [
       "'Sodium C'"
      ]
     },
     "execution_count": 11,
     "metadata": {},
     "output_type": "execute_result"
    }
   ],
   "source": [
    "x='Sodium Carbonate'\n",
    "x[:8]"
   ]
  },
  {
   "cell_type": "code",
   "execution_count": 12,
   "metadata": {},
   "outputs": [
    {
     "data": {
      "text/plain": [
       "'m Carbonate'"
      ]
     },
     "execution_count": 12,
     "metadata": {},
     "output_type": "execute_result"
    }
   ],
   "source": [
    "x[5:]"
   ]
  },
  {
   "cell_type": "code",
   "execution_count": 9,
   "metadata": {},
   "outputs": [
    {
     "name": "stdout",
     "output_type": "stream",
     "text": [
      "A\n",
      "ř\n",
      "Օ\n"
     ]
    }
   ],
   "source": [
    "x = chr (65)\n",
    "print(x)\n",
    "x = chr(345)\n",
    "print(x)\n",
    "x = chr(1365)\n",
    "print(x)\n"
   ]
  },
  {
   "cell_type": "code",
   "execution_count": 1,
   "metadata": {},
   "outputs": [],
   "source": [
    "w = 'worldsinger'"
   ]
  },
  {
   "cell_type": "code",
   "execution_count": 2,
   "metadata": {},
   "outputs": [
    {
     "data": {
      "text/plain": [
       "['w', 'o', 'r', 'l', 'd', 's', 'i', 'n', 'g', 'e', 'r']"
      ]
     },
     "execution_count": 2,
     "metadata": {},
     "output_type": "execute_result"
    }
   ],
   "source": [
    "list(w)"
   ]
  },
  {
   "cell_type": "code",
   "execution_count": 10,
   "metadata": {},
   "outputs": [
    {
     "data": {
      "text/plain": [
       "'world'"
      ]
     },
     "execution_count": 10,
     "metadata": {},
     "output_type": "execute_result"
    }
   ],
   "source": [
    "w[:5]"
   ]
  },
  {
   "cell_type": "code",
   "execution_count": 5,
   "metadata": {},
   "outputs": [
    {
     "data": {
      "text/plain": [
       "'olsne'"
      ]
     },
     "execution_count": 5,
     "metadata": {},
     "output_type": "execute_result"
    }
   ],
   "source": [
    "w[1::2]#odd indexing"
   ]
  },
  {
   "cell_type": "code",
   "execution_count": 7,
   "metadata": {},
   "outputs": [
    {
     "data": {
      "text/plain": [
       "'wrdigr'"
      ]
     },
     "execution_count": 7,
     "metadata": {},
     "output_type": "execute_result"
    }
   ],
   "source": [
    "w[::2]"
   ]
  },
  {
   "cell_type": "code",
   "execution_count": 8,
   "metadata": {},
   "outputs": [
    {
     "data": {
      "text/plain": [
       "'regnisdlrow'"
      ]
     },
     "execution_count": 8,
     "metadata": {},
     "output_type": "execute_result"
    }
   ],
   "source": [
    "w[::-1] #reveres string"
   ]
  },
  {
   "cell_type": "code",
   "execution_count": null,
   "metadata": {},
   "outputs": [],
   "source": [
    "y = ord('A')\n"
   ]
  },
  {
   "cell_type": "markdown",
   "metadata": {},
   "source": [
    "pattern printing"
   ]
  },
  {
   "cell_type": "code",
   "execution_count": 14,
   "metadata": {},
   "outputs": [
    {
     "name": "stdout",
     "output_type": "stream",
     "text": [
      "             L \n",
      "           L L \n",
      "         L L L \n",
      "       L L L L \n",
      "     L L L L L \n"
     ]
    }
   ],
   "source": [
    "for i in range(1,6):\n",
    "    print((i*'L ').rjust(15))"
   ]
  },
  {
   "cell_type": "code",
   "execution_count": 15,
   "metadata": {},
   "outputs": [
    {
     "data": {
      "text/plain": [
       "'         worldsinger'"
      ]
     },
     "execution_count": 15,
     "metadata": {},
     "output_type": "execute_result"
    }
   ],
   "source": [
    "w.rjust(20)"
   ]
  },
  {
   "cell_type": "code",
   "execution_count": 16,
   "metadata": {},
   "outputs": [
    {
     "data": {
      "text/plain": [
       "'worldsinger         '"
      ]
     },
     "execution_count": 16,
     "metadata": {},
     "output_type": "execute_result"
    }
   ],
   "source": [
    "w.ljust(20)"
   ]
  },
  {
   "cell_type": "code",
   "execution_count": 20,
   "metadata": {},
   "outputs": [
    {
     "name": "stdout",
     "output_type": "stream",
     "text": [
      "            0 \n",
      "          0 0 \n",
      "        0 0 0 \n",
      "      0 0 0 0 \n",
      "    0 0 0 0 0 \n",
      "  0 0 0 0 0 0 \n",
      "0 0 0 0 0 0 0 \n"
     ]
    }
   ],
   "source": [
    "for i in range(1,8):\n",
    "    print(('0 '*i).rjust(14))"
   ]
  },
  {
   "cell_type": "code",
   "execution_count": 21,
   "metadata": {},
   "outputs": [
    {
     "name": "stdout",
     "output_type": "stream",
     "text": [
      "               T              \n",
      "             T T T            \n",
      "           T T T T T          \n",
      "         T T T T T T T        \n",
      "       T T T T T T T T T      \n",
      "     T T T T T T T T T T T    \n",
      "   T T T T T T T T T T T T T  \n"
     ]
    }
   ],
   "source": [
    "for i in range(1,15,2):\n",
    "    print((i * ' T').center(30))"
   ]
  },
  {
   "cell_type": "code",
   "execution_count": 23,
   "metadata": {},
   "outputs": [
    {
     "name": "stdout",
     "output_type": "stream",
     "text": [
      "               T              \n",
      "               0              \n",
      "           T T T T T          \n",
      "           0 0 0 0 0          \n",
      "       T T T T T T T T T      \n",
      "       0 0 0 0 0 0 0 0 0      \n",
      "   T T T T T T T T T T T T T  \n",
      "   0 0 0 0 0 0 0 0 0 0 0 0 0  \n"
     ]
    }
   ],
   "source": [
    "for i in range(1,15,4):\n",
    "    print((i * \" T\").center(30))\n",
    "    print((i * \" 0\").center(30))"
   ]
  },
  {
   "cell_type": "code",
   "execution_count": null,
   "metadata": {},
   "outputs": [],
   "source": [
    "for i,v in enumerate(range(1,15,2)):"
   ]
  },
  {
   "cell_type": "markdown",
   "metadata": {},
   "source": [
    "### Function"
   ]
  },
  {
   "cell_type": "code",
   "execution_count": 25,
   "metadata": {},
   "outputs": [
    {
     "name": "stdout",
     "output_type": "stream",
     "text": [
      "\u001b[1;31mSignature:\u001b[0m \u001b[0mw\u001b[0m\u001b[1;33m.\u001b[0m\u001b[0mcenter\u001b[0m\u001b[1;33m(\u001b[0m\u001b[0mwidth\u001b[0m\u001b[1;33m,\u001b[0m \u001b[0mfillchar\u001b[0m\u001b[1;33m=\u001b[0m\u001b[1;34m' '\u001b[0m\u001b[1;33m,\u001b[0m \u001b[1;33m/\u001b[0m\u001b[1;33m)\u001b[0m\u001b[1;33m\u001b[0m\u001b[1;33m\u001b[0m\u001b[0m\n",
      "\u001b[1;31mDocstring:\u001b[0m\n",
      "Return a centered string of length width.\n",
      "\n",
      "Padding is done using the specified fill character (default is a space).\n",
      "\u001b[1;31mType:\u001b[0m      builtin_function_or_method\n"
     ]
    }
   ],
   "source": [
    "w.center?"
   ]
  },
  {
   "cell_type": "code",
   "execution_count": null,
   "metadata": {},
   "outputs": [],
   "source": [
    "for i,v in enumerate(range(1,15,2)):"
   ]
  },
  {
   "cell_type": "code",
   "execution_count": 27,
   "metadata": {},
   "outputs": [],
   "source": [
    "Story ='''A key element of IP is IP address, a 32-bit number\n",
    "• The Internet authorities assign ranges of numbersto\n",
    "different organizations\n",
    "• IP is responsible for moving packet of data from node to node\n",
    "• A packet contains information such as the data to be transferred, the source and destination IP\n",
    "addresses, etc.\n",
    "• Packets are sent through different local network through gateways\n",
    "• A checksum is created to ensure the correctness ofthe\n",
    "data; corrupted packets are discarded\n",
    "• IP-based communication '''"
   ]
  },
  {
   "cell_type": "code",
   "execution_count": 28,
   "metadata": {},
   "outputs": [
    {
     "data": {
      "text/plain": [
       "494"
      ]
     },
     "execution_count": 28,
     "metadata": {},
     "output_type": "execute_result"
    }
   ],
   "source": [
    "len(Story)"
   ]
  },
  {
   "cell_type": "code",
   "execution_count": 31,
   "metadata": {},
   "outputs": [
    {
     "name": "stdout",
     "output_type": "stream",
     "text": [
      "['A', 'key', 'element', 'of', 'IP', 'is', 'IP', 'address,', 'a', '32-bit', 'number', '•', 'The', 'Internet', 'authorities', 'assign', 'ranges', 'of', 'numbersto', 'different', 'organizations', '•', 'IP', 'is', 'responsible', 'for', 'moving', 'packet', 'of', 'data', 'from', 'node', 'to', 'node', '•', 'A', 'packet', 'contains', 'information', 'such', 'as', 'the', 'data', 'to', 'be', 'transferred,', 'the', 'source', 'and', 'destination', 'IP', 'addresses,', 'etc.', '•', 'Packets', 'are', 'sent', 'through', 'different', 'local', 'network', 'through', 'gateways', '•', 'A', 'checksum', 'is', 'created', 'to', 'ensure', 'the', 'correctness', 'ofthe', 'data;', 'corrupted', 'packets', 'are', 'discarded', '•', 'IP-based', 'communication']\n"
     ]
    }
   ],
   "source": [
    "print(Story.split())"
   ]
  },
  {
   "cell_type": "code",
   "execution_count": 32,
   "metadata": {},
   "outputs": [
    {
     "name": "stdout",
     "output_type": "stream",
     "text": [
      "81\n"
     ]
    }
   ],
   "source": [
    "words = Story.split()\n",
    "print(len(words))"
   ]
  },
  {
   "cell_type": "code",
   "execution_count": 35,
   "metadata": {},
   "outputs": [
    {
     "data": {
      "text/plain": [
       "['A key element of IP is IP address',\n",
       " ' a 32-bit number\\n• The Internet authorities assign ranges of numbersto\\ndifferent organizations\\n• IP is responsible for moving packet of data from node to node\\n• A packet contains information such as the data to be transferred',\n",
       " ' the source and destination IP\\naddresses',\n",
       " ' etc.\\n• Packets are sent through different local network through gateways\\n• A checksum is created to ensure the correctness ofthe\\ndata; corrupted packets are discarded\\n• IP-based communication ']"
      ]
     },
     "execution_count": 35,
     "metadata": {},
     "output_type": "execute_result"
    }
   ],
   "source": [
    "Story.split(',',4)"
   ]
  },
  {
   "cell_type": "code",
   "execution_count": 36,
   "metadata": {},
   "outputs": [],
   "source": [
    "wordlist = ['chocolate','is','good','for','your','health']"
   ]
  },
  {
   "cell_type": "code",
   "execution_count": 37,
   "metadata": {},
   "outputs": [
    {
     "data": {
      "text/plain": [
       "'chocolate is good for your health'"
      ]
     },
     "execution_count": 37,
     "metadata": {},
     "output_type": "execute_result"
    }
   ],
   "source": [
    "' '.join(wordlist) ## join function"
   ]
  },
  {
   "cell_type": "code",
   "execution_count": 38,
   "metadata": {},
   "outputs": [
    {
     "data": {
      "text/plain": [
       "'chocolatexisxgoodxforxyourxhealth'"
      ]
     },
     "execution_count": 38,
     "metadata": {},
     "output_type": "execute_result"
    }
   ],
   "source": [
    "'x'.join(wordlist)"
   ]
  },
  {
   "cell_type": "code",
   "execution_count": 40,
   "metadata": {},
   "outputs": [
    {
     "data": {
      "text/plain": [
       "'A key element of IP is IP oddress, o 32-bit number\\n• The Internet outhorities ossign ronges of numbersto\\ndifferent orgonizotions\\n• IP is responsible for moving pocket of doto from node to node\\n• A pocket contoins informotion such os the doto to be tronsferred, the source ond destinotion IP\\noddresses, etc.\\n• Pockets ore sent through different locol network through gotewoys\\n• A checksum is creoted to ensure the correctness ofthe\\ndoto; corrupted pockets ore discorded\\n• IP-bosed communicotion '"
      ]
     },
     "execution_count": 40,
     "metadata": {},
     "output_type": "execute_result"
    }
   ],
   "source": [
    "Story.replace('a','o')"
   ]
  },
  {
   "cell_type": "code",
   "execution_count": 43,
   "metadata": {},
   "outputs": [
    {
     "data": {
      "text/plain": [
       "'A key element of IP is IP address, a 32-bit number\\n• The Internet authorities assign ranges of numbersto\\ndifferent organizations\\n• IP is responsible for moving packet of data from node to node\\n• A packet contains information such as the data to be transferred, the source and destination IP\\naddresses, etc???\\n• Packets are sent through different local network through gateways\\n• A checksum is created to ensure the correctness ofthe\\ndata; corrupted packets are discarded\\n• IP-based communication '"
      ]
     },
     "execution_count": 43,
     "metadata": {},
     "output_type": "execute_result"
    }
   ],
   "source": [
    "Story.replace('.','???',4)"
   ]
  },
  {
   "cell_type": "code",
   "execution_count": 44,
   "metadata": {},
   "outputs": [
    {
     "data": {
      "text/plain": [
       "'A key element of IP is IP address, a 32-bit number\\n• The Internet authorities assign ranges of numbersto\\ndifferent organizations\\n• IP is responsible for moving packet of data from node to node\\n• A packet contains information such as the data to be transferred, the source and destination IP\\naddresses, etc.\\n• Packets are sent through different local network through gateways\\n• A checksum is created to ensure the correctness ofthe\\ndata; corrupted packets are discarded\\n• IP-based communication '"
      ]
     },
     "execution_count": 44,
     "metadata": {},
     "output_type": "execute_result"
    }
   ],
   "source": [
    "Story"
   ]
  },
  {
   "cell_type": "code",
   "execution_count": null,
   "metadata": {},
   "outputs": [],
   "source": []
  }
 ],
 "metadata": {
  "interpreter": {
   "hash": "8064873486743b3561012a04baeaa1b8122ff756d22bf0f5bd097e4f6449fa51"
  },
  "kernelspec": {
   "display_name": "Python 3.10.4 64-bit",
   "language": "python",
   "name": "python3"
  },
  "language_info": {
   "codemirror_mode": {
    "name": "ipython",
    "version": 3
   },
   "file_extension": ".py",
   "mimetype": "text/x-python",
   "name": "python",
   "nbconvert_exporter": "python",
   "pygments_lexer": "ipython3",
   "version": "3.10.4"
  },
  "orig_nbformat": 4
 },
 "nbformat": 4,
 "nbformat_minor": 2
}
